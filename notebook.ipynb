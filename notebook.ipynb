{
 "cells": [
  {
   "cell_type": "code",
   "execution_count": 14,
   "metadata": {},
   "outputs": [
    {
     "data": {
      "text/plain": [
       "['numpy', 'pandas', 'seaborn']"
      ]
     },
     "execution_count": 14,
     "metadata": {},
     "output_type": "execute_result"
    }
   ],
   "source": [
    "file_path = 'requirements.txt'\n",
    "hypen_e_dot = '-e .'\n",
    "with open(file_path, 'r') as f:\n",
    "   req_list = [line.strip() for line in f.readlines()]\n",
    "   if hypen_e_dot in req_list:\n",
    "      req_list.remove(hypen_e_dot)\n",
    "req_list"
   ]
  },
  {
   "cell_type": "code",
   "execution_count": 3,
   "metadata": {},
   "outputs": [
    {
     "name": "stdout",
     "output_type": "stream",
     "text": [
      "['numpy\\n', 'pandas\\n', 'seaborn']\n"
     ]
    }
   ],
   "source": [
    "req=[]\n",
    "with open(file_path, 'r') as f:\n",
    "   req = f.readlines()\n",
    "   req = [x for x in req]\n",
    "\n",
    "print(req)"
   ]
  }
 ],
 "metadata": {
  "kernelspec": {
   "display_name": "Python 3",
   "language": "python",
   "name": "python3"
  },
  "language_info": {
   "codemirror_mode": {
    "name": "ipython",
    "version": 3
   },
   "file_extension": ".py",
   "mimetype": "text/x-python",
   "name": "python",
   "nbconvert_exporter": "python",
   "pygments_lexer": "ipython3",
   "version": "3.10.4"
  },
  "orig_nbformat": 4
 },
 "nbformat": 4,
 "nbformat_minor": 2
}
